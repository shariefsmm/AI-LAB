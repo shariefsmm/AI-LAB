{
 "cells": [
  {
   "cell_type": "code",
   "execution_count": 1,
   "metadata": {},
   "outputs": [],
   "source": [
    "import numpy as np\n",
    "import math\n",
    "import matplotlib.pyplot as plt"
   ]
  },
  {
   "cell_type": "code",
   "execution_count": 2,
   "metadata": {},
   "outputs": [],
   "source": [
    "#this is to define the state space \n",
    "v_n = 100                     #we are going to divide the velocity state space into 1500 discrete points\n",
    "v_max = 0.07\n",
    "v_min = -0.07\n",
    "velocities = np.linspace (v_min , v_max , v_n)\n",
    "\n",
    "p_n = 100\n",
    "p_max = 0.6\n",
    "p_min = -1.2\n",
    "positions = np.linspace (p_min , p_max , p_n)\n",
    "gamma = 0.9\n",
    "reward = -1"
   ]
  },
  {
   "cell_type": "code",
   "execution_count": 3,
   "metadata": {},
   "outputs": [],
   "source": [
    "def give_index (pos , vel):\n",
    "    #this function takes the pos and the vel and then return the correspoding index of the state\n",
    "    #in the state space\n",
    "    v_div = (v_max - v_min) / (v_n - 1)\n",
    "    y =  (vel - v_min) / v_div\n",
    "    \n",
    "    p_div = (p_max - p_min) / (p_n - 1)\n",
    "    x = (pos - p_min) / p_div\n",
    "    \n",
    "    return (int(x) , int(y))"
   ]
  },
  {
   "cell_type": "code",
   "execution_count": 4,
   "metadata": {},
   "outputs": [],
   "source": [
    "def mountain_car_simulation (pos , vel , action):\n",
    "    new_velocity = vel + (action * 0.001) + math.cos (3 * pos ) * (-0.0025)\n",
    "    #applying the boundary condition\n",
    "\n",
    "    \n",
    "    new_velocity = min (max (v_min , new_velocity) , v_max)\n",
    "    new_position = pos + new_velocity\n",
    "    \n",
    "    \n",
    "    #apply boundary\n",
    "    new_position = min (max (p_min , new_position) , p_max )\n",
    "\n",
    "    if (new_position <= p_min):\n",
    "        new_velocity = 0\n",
    "    #print(\"oldVel = \", vel, \"oldPos = \", pos, \"newVel = \", new_velocity, \"newPos = \", new_position)    \n",
    "    return new_position , new_velocity\n",
    "    "
   ]
  },
  {
   "cell_type": "code",
   "execution_count": 5,
   "metadata": {
    "scrolled": true
   },
   "outputs": [
    {
     "data": {
      "text/plain": [
       "(0.6, 0.0015680052367327171)"
      ]
     },
     "execution_count": 5,
     "metadata": {},
     "output_type": "execute_result"
    }
   ],
   "source": [
    "mountain_car_simulation (0.6 , +0.0, +1)"
   ]
  },
  {
   "cell_type": "code",
   "execution_count": 6,
   "metadata": {},
   "outputs": [],
   "source": [
    "def value_iteration (state_values):\n",
    "    #this function takes the state values (initial)\n",
    "    #and then use the value iteration to return the actual value function of the states\n",
    "    \n",
    "    #in the state values rows represent the position and the columns represent the velocity\n",
    "    action_space = np.zeros ((p_n , v_n))\n",
    "    \n",
    "    threshold = 1000\n",
    "    epsilon = 0.01\n",
    "    threshold_list = []\n",
    "    \n",
    "    for itr in range(1500):\n",
    "        \n",
    "        if (itr % 50 == 0):\n",
    "            print (\"number of iterations : \" , itr)\n",
    "        #print (threshold)\n",
    "        #compute the value function for the first sweep\n",
    "        threshold = -math.inf\n",
    "        \n",
    "        for row in range(p_n):\n",
    "            for col in range(v_n):\n",
    "                \n",
    "                current_vel = velocities[col]\n",
    "                current_pos = positions[row]\n",
    "                \n",
    "                optimal_value = -math.inf\n",
    "                temp_value = -1\n",
    "                for action in [-1 , 0 , 1]:\n",
    "                    \n",
    "                    new_position , new_velocity = mountain_car_simulation(current_pos, current_vel , action)\n",
    "                    x , y = give_index (new_position , new_velocity)\n",
    "                    \n",
    "                    temp_value =state_values[x][y]\n",
    "                    if (new_position < 0.6):\n",
    "                        temp_value += -1\n",
    "                    \n",
    "                        \n",
    "                    if (temp_value > optimal_value):\n",
    "                        optimal_value = temp_value\n",
    "                        action_space[row][col] = action\n",
    "                        \n",
    "                threshold = max (threshold ,  abs (optimal_value - state_values[row][col]))\n",
    "\n",
    "                state_values[row][col] = optimal_value\n",
    "        threshold_list.append(threshold)\n",
    "    \n",
    "    return (np.copy (state_values) , np.copy (threshold_list) , action_space)\n",
    "                    "
   ]
  },
  {
   "cell_type": "code",
   "execution_count": 7,
   "metadata": {},
   "outputs": [],
   "source": [
    "#this takes the action space and then return the correspoding policy\n",
    "def policy_evaluation (action_space):\n",
    "    value_space = np.zeros ((p_n , v_n))\n",
    "    for itr in range (10):\n",
    "        \n",
    "        if (itr % 10 == 0):\n",
    "            print (itr)\n",
    "        for row in range (p_n):\n",
    "            for col in range(v_n):\n",
    "                current_pos = positions[row]\n",
    "                current_vel = velocities[col]\n",
    "                action = action_space[row][col]\n",
    "                \n",
    "                new_pos , new_vel = mountain_car_simulation (current_pos , current_vel , action)\n",
    "                x , y = give_index(new_pos , new_vel)\n",
    "                \n",
    "                temp_value = value_space[x][y]\n",
    "                if (new_pos < 0.6):\n",
    "                    temp_value += -1\n",
    "                    \n",
    "                value_space[row][col] = temp_value\n",
    "    \n",
    "    return np.copy (value_space)"
   ]
  },
  {
   "cell_type": "code",
   "execution_count": 8,
   "metadata": {},
   "outputs": [],
   "source": [
    "def update_policy (value_space):\n",
    "    policy = np.zeros ((p_n , v_n))\n",
    "    \n",
    "    for row in range(p_n):\n",
    "        for col in range(v_n):\n",
    "            optimal_values= np.zeros((0 , 1))\n",
    "            \n",
    "            current_pos = positions[row]\n",
    "            current_vel = velocities[col]\n",
    "            \n",
    "            \n",
    "            for action in [-1 , 0 , 1]:\n",
    "                new_pos , new_vel = mountain_car_simulation (current_pos , current_vel , action)\n",
    "                x , y = give_index (new_pos , new_vel)\n",
    "                temp_value = value_space[x][y]\n",
    "                \n",
    "                if (new_pos < 0.6):\n",
    "                    temp_value += -1\n",
    "                \n",
    "                optimal_values = np.vstack([optimal_values , np.array([temp_value])])\n",
    "            \n",
    "            \n",
    "            policy[row][col] = np.argmax (optimal_values)\n",
    "            \n",
    "    return np.copy (policy)"
   ]
  },
  {
   "cell_type": "code",
   "execution_count": 9,
   "metadata": {},
   "outputs": [],
   "source": [
    "def policy_iteration ():\n",
    "    policy = np.zeros ((p_n , v_n))\n",
    "    value = np.zeros ((p_n , v_n))\n",
    "    \n",
    "    for itr in range(200):\n",
    "        print (\"Number of iterations : \" , itr)\n",
    "        value = policy_evaluation(policy)\n",
    "        policy = update_policy(value)\n",
    "        \n",
    "    return (value , policy)\n",
    "        "
   ]
  },
  {
   "cell_type": "code",
   "execution_count": 10,
   "metadata": {},
   "outputs": [
    {
     "name": "stdout",
     "output_type": "stream",
     "text": [
      "number of iterations :  0\n",
      "number of iterations :  50\n",
      "number of iterations :  100\n",
      "number of iterations :  150\n",
      "number of iterations :  200\n",
      "number of iterations :  250\n",
      "number of iterations :  300\n",
      "number of iterations :  350\n",
      "number of iterations :  400\n",
      "number of iterations :  450\n",
      "number of iterations :  500\n",
      "number of iterations :  550\n",
      "number of iterations :  600\n",
      "number of iterations :  650\n",
      "number of iterations :  700\n",
      "number of iterations :  750\n",
      "number of iterations :  800\n",
      "number of iterations :  850\n",
      "number of iterations :  900\n",
      "number of iterations :  950\n",
      "number of iterations :  1000\n",
      "number of iterations :  1050\n",
      "number of iterations :  1100\n",
      "number of iterations :  1150\n",
      "number of iterations :  1200\n",
      "number of iterations :  1250\n",
      "number of iterations :  1300\n",
      "number of iterations :  1350\n",
      "number of iterations :  1400\n",
      "number of iterations :  1450\n"
     ]
    }
   ],
   "source": [
    "state_value = np.zeros ((p_n , v_n))\n",
    "final_values , threshold_list , action_space= value_iteration(state_value)"
   ]
  },
  {
   "cell_type": "code",
   "execution_count": 11,
   "metadata": {},
   "outputs": [
    {
     "name": "stdout",
     "output_type": "stream",
     "text": [
      "[[-1. -1. -1. ... -1. -1. -1.]\n",
      " [-1. -1. -1. ... -1. -1. -1.]\n",
      " [-1. -1. -1. ... -1. -1. -1.]\n",
      " ...\n",
      " [-1. -1. -1. ... -1. -1. -1.]\n",
      " [-1. -1. -1. ... -1. -1. -1.]\n",
      " [-1. -1. -1. ... -1. -1. -1.]]\n"
     ]
    }
   ],
   "source": [
    "print(action_space)"
   ]
  },
  {
   "cell_type": "code",
   "execution_count": 12,
   "metadata": {},
   "outputs": [
    {
     "data": {
      "text/plain": [
       "[<matplotlib.lines.Line2D at 0x7f0d7c5a4390>]"
      ]
     },
     "execution_count": 12,
     "metadata": {},
     "output_type": "execute_result"
    },
    {
     "data": {
      "image/png": "[encoded data removed]",
      "text/plain": [
       "<Figure size 432x288 with 1 Axes>"
      ]
     },
     "metadata": {},
     "output_type": "display_data"
    }
   ],
   "source": [
    "plt.plot (range(len(threshold_list)) , threshold_list)"
   ]
  },
  {
   "cell_type": "markdown",
   "metadata": {},
   "source": [
    "action_space = return_policy(final_values)"
   ]
  },
  {
   "cell_type": "code",
   "execution_count": 13,
   "metadata": {},
   "outputs": [],
   "source": [
    "np.set_printoptions(formatter={'float': '{: 0.5f}'.format})\n",
    "np.savetxt(\"value.txt\" , final_values , fmt = \"%0.5f\")\n",
    "np.savetxt(\"action.txt\" , action_space , fmt = \"%i\")"
   ]
  },
  {
   "cell_type": "markdown",
   "metadata": {},
   "source": [
    "np.set_printoptions(formatter={'float': '{: 0.5f}'.format})\n",
    "np.savetxt(\"value.txt\" , final_values , fmt = \"%0.5f\")"
   ]
  },
  {
   "cell_type": "code",
   "execution_count": 14,
   "metadata": {
    "scrolled": true
   },
   "outputs": [
    {
     "data": {
      "text/plain": [
       "<matplotlib.image.AxesImage at 0x7f0d7c53db00>"
      ]
     },
     "execution_count": 14,
     "metadata": {},
     "output_type": "execute_result"
    },
    {
     "data": {
      "image/png": "[encoded data removed]",
      "text/plain": [
       "<Figure size 576x432 with 1 Axes>"
      ]
     },
     "metadata": {},
     "output_type": "display_data"
    }
   ],
   "source": [
    "plt.figure(figsize = (8 , 6))\n",
    "plt.imshow (final_values , cmap = \"hot\" , interpolation=\"nearest\")"
   ]
  },
  {
   "cell_type": "code",
   "execution_count": 15,
   "metadata": {},
   "outputs": [
    {
     "data": {
      "text/plain": [
       "<matplotlib.image.AxesImage at 0x7f0d7c42a940>"
      ]
     },
     "execution_count": 15,
     "metadata": {},
     "output_type": "execute_result"
    },
    {
     "data": {
      "image/png": "[encoded data removed]",
      "text/plain": [
       "<Figure size 576x432 with 1 Axes>"
      ]
     },
     "metadata": {},
     "output_type": "display_data"
    }
   ],
   "source": [
    "plt.figure(figsize = (8 , 6))\n",
    "plt.imshow (action_space , cmap = \"hot\"  )"
   ]
  },
  {
   "cell_type": "code",
   "execution_count": 16,
   "metadata": {
    "scrolled": true
   },
   "outputs": [
    {
     "name": "stdout",
     "output_type": "stream",
     "text": [
      "0.0\n"
     ]
    }
   ],
   "source": [
    "print (threshold_list[len(threshold_list) - 1])"
   ]
  },
  {
   "cell_type": "code",
   "execution_count": 17,
   "metadata": {
    "scrolled": true
   },
   "outputs": [
    {
     "name": "stdout",
     "output_type": "stream",
     "text": [
      "Number of iterations :  0\n",
      "0\n",
      "Number of iterations :  1\n",
      "0\n",
      "Number of iterations :  2\n",
      "0\n",
      "Number of iterations :  3\n",
      "0\n",
      "Number of iterations :  4\n",
      "0\n",
      "Number of iterations :  5\n",
      "0\n",
      "Number of iterations :  6\n",
      "0\n",
      "Number of iterations :  7\n",
      "0\n",
      "Number of iterations :  8\n",
      "0\n",
      "Number of iterations :  9\n",
      "0\n",
      "Number of iterations :  10\n",
      "0\n",
      "Number of iterations :  11\n",
      "0\n",
      "Number of iterations :  12\n",
      "0\n",
      "Number of iterations :  13\n",
      "0\n",
      "Number of iterations :  14\n",
      "0\n",
      "Number of iterations :  15\n",
      "0\n",
      "Number of iterations :  16\n",
      "0\n",
      "Number of iterations :  17\n",
      "0\n",
      "Number of iterations :  18\n",
      "0\n",
      "Number of iterations :  19\n",
      "0\n",
      "Number of iterations :  20\n",
      "0\n",
      "Number of iterations :  21\n",
      "0\n",
      "Number of iterations :  22\n",
      "0\n",
      "Number of iterations :  23\n",
      "0\n",
      "Number of iterations :  24\n",
      "0\n",
      "Number of iterations :  25\n",
      "0\n",
      "Number of iterations :  26\n",
      "0\n",
      "Number of iterations :  27\n",
      "0\n",
      "Number of iterations :  28\n",
      "0\n",
      "Number of iterations :  29\n",
      "0\n",
      "Number of iterations :  30\n",
      "0\n",
      "Number of iterations :  31\n",
      "0\n",
      "Number of iterations :  32\n",
      "0\n",
      "Number of iterations :  33\n",
      "0\n",
      "Number of iterations :  34\n",
      "0\n",
      "Number of iterations :  35\n",
      "0\n",
      "Number of iterations :  36\n",
      "0\n",
      "Number of iterations :  37\n",
      "0\n",
      "Number of iterations :  38\n",
      "0\n",
      "Number of iterations :  39\n",
      "0\n",
      "Number of iterations :  40\n",
      "0\n",
      "Number of iterations :  41\n",
      "0\n",
      "Number of iterations :  42\n",
      "0\n",
      "Number of iterations :  43\n",
      "0\n",
      "Number of iterations :  44\n",
      "0\n",
      "Number of iterations :  45\n",
      "0\n",
      "Number of iterations :  46\n",
      "0\n",
      "Number of iterations :  47\n",
      "0\n",
      "Number of iterations :  48\n",
      "0\n",
      "Number of iterations :  49\n",
      "0\n",
      "Number of iterations :  50\n",
      "0\n",
      "Number of iterations :  51\n",
      "0\n",
      "Number of iterations :  52\n",
      "0\n",
      "Number of iterations :  53\n",
      "0\n",
      "Number of iterations :  54\n",
      "0\n",
      "Number of iterations :  55\n",
      "0\n",
      "Number of iterations :  56\n",
      "0\n",
      "Number of iterations :  57\n",
      "0\n",
      "Number of iterations :  58\n",
      "0\n",
      "Number of iterations :  59\n",
      "0\n",
      "Number of iterations :  60\n",
      "0\n",
      "Number of iterations :  61\n",
      "0\n",
      "Number of iterations :  62\n",
      "0\n",
      "Number of iterations :  63\n",
      "0\n",
      "Number of iterations :  64\n",
      "0\n",
      "Number of iterations :  65\n",
      "0\n",
      "Number of iterations :  66\n",
      "0\n",
      "Number of iterations :  67\n",
      "0\n",
      "Number of iterations :  68\n",
      "0\n",
      "Number of iterations :  69\n",
      "0\n",
      "Number of iterations :  70\n",
      "0\n",
      "Number of iterations :  71\n",
      "0\n",
      "Number of iterations :  72\n",
      "0\n",
      "Number of iterations :  73\n",
      "0\n",
      "Number of iterations :  74\n",
      "0\n",
      "Number of iterations :  75\n",
      "0\n",
      "Number of iterations :  76\n",
      "0\n",
      "Number of iterations :  77\n",
      "0\n",
      "Number of iterations :  78\n",
      "0\n",
      "Number of iterations :  79\n",
      "0\n",
      "Number of iterations :  80\n",
      "0\n",
      "Number of iterations :  81\n",
      "0\n",
      "Number of iterations :  82\n",
      "0\n",
      "Number of iterations :  83\n",
      "0\n",
      "Number of iterations :  84\n",
      "0\n",
      "Number of iterations :  85\n",
      "0\n",
      "Number of iterations :  86\n",
      "0\n",
      "Number of iterations :  87\n",
      "0\n",
      "Number of iterations :  88\n",
      "0\n",
      "Number of iterations :  89\n",
      "0\n",
      "Number of iterations :  90\n",
      "0\n",
      "Number of iterations :  91\n",
      "0\n",
      "Number of iterations :  92\n",
      "0\n",
      "Number of iterations :  93\n",
      "0\n",
      "Number of iterations :  94\n",
      "0\n",
      "Number of iterations :  95\n",
      "0\n",
      "Number of iterations :  96\n",
      "0\n",
      "Number of iterations :  97\n",
      "0\n",
      "Number of iterations :  98\n",
      "0\n",
      "Number of iterations :  99\n",
      "0\n",
      "Number of iterations :  100\n",
      "0\n",
      "Number of iterations :  101\n",
      "0\n",
      "Number of iterations :  102\n",
      "0\n",
      "Number of iterations :  103\n",
      "0\n",
      "Number of iterations :  104\n",
      "0\n",
      "Number of iterations :  105\n",
      "0\n",
      "Number of iterations :  106\n",
      "0\n",
      "Number of iterations :  107\n",
      "0\n",
      "Number of iterations :  108\n",
      "0\n",
      "Number of iterations :  109\n",
      "0\n",
      "Number of iterations :  110\n",
      "0\n",
      "Number of iterations :  111\n",
      "0\n",
      "Number of iterations :  112\n",
      "0\n",
      "Number of iterations :  113\n",
      "0\n",
      "Number of iterations :  114\n",
      "0\n",
      "Number of iterations :  115\n",
      "0\n",
      "Number of iterations :  116\n",
      "0\n",
      "Number of iterations :  117\n",
      "0\n",
      "Number of iterations :  118\n",
      "0\n",
      "Number of iterations :  119\n",
      "0\n",
      "Number of iterations :  120\n",
      "0\n",
      "Number of iterations :  121\n",
      "0\n",
      "Number of iterations :  122\n",
      "0\n",
      "Number of iterations :  123\n",
      "0\n",
      "Number of iterations :  124\n",
      "0\n",
      "Number of iterations :  125\n",
      "0\n",
      "Number of iterations :  126\n",
      "0\n",
      "Number of iterations :  127\n",
      "0\n",
      "Number of iterations :  128\n",
      "0\n",
      "Number of iterations :  129\n",
      "0\n",
      "Number of iterations :  130\n",
      "0\n",
      "Number of iterations :  131\n",
      "0\n",
      "Number of iterations :  132\n",
      "0\n",
      "Number of iterations :  133\n",
      "0\n",
      "Number of iterations :  134\n",
      "0\n",
      "Number of iterations :  135\n",
      "0\n",
      "Number of iterations :  136\n",
      "0\n",
      "Number of iterations :  137\n",
      "0\n",
      "Number of iterations :  138\n",
      "0\n",
      "Number of iterations :  139\n",
      "0\n",
      "Number of iterations :  140\n",
      "0\n",
      "Number of iterations :  141\n",
      "0\n",
      "Number of iterations :  142\n",
      "0\n",
      "Number of iterations :  143\n",
      "0\n",
      "Number of iterations :  144\n",
      "0\n",
      "Number of iterations :  145\n",
      "0\n",
      "Number of iterations :  146\n",
      "0\n",
      "Number of iterations :  147\n",
      "0\n",
      "Number of iterations :  148\n",
      "0\n",
      "Number of iterations :  149\n",
      "0\n",
      "Number of iterations :  150\n",
      "0\n",
      "Number of iterations :  151\n",
      "0\n",
      "Number of iterations :  152\n",
      "0\n",
      "Number of iterations :  153\n",
      "0\n",
      "Number of iterations :  154\n",
      "0\n",
      "Number of iterations :  155\n",
      "0\n",
      "Number of iterations :  156\n",
      "0\n",
      "Number of iterations :  157\n",
      "0\n",
      "Number of iterations :  158\n",
      "0\n",
      "Number of iterations :  159\n",
      "0\n",
      "Number of iterations :  160\n",
      "0\n",
      "Number of iterations :  161\n",
      "0\n",
      "Number of iterations :  162\n",
      "0\n",
      "Number of iterations :  163\n",
      "0\n",
      "Number of iterations :  164\n",
      "0\n",
      "Number of iterations :  165\n",
      "0\n",
      "Number of iterations :  166\n",
      "0\n",
      "Number of iterations :  167\n",
      "0\n",
      "Number of iterations :  168\n",
      "0\n",
      "Number of iterations :  169\n",
      "0\n",
      "Number of iterations :  170\n",
      "0\n",
      "Number of iterations :  171\n",
      "0\n",
      "Number of iterations :  172\n",
      "0\n",
      "Number of iterations :  173\n",
      "0\n",
      "Number of iterations :  174\n",
      "0\n",
      "Number of iterations :  175\n",
      "0\n",
      "Number of iterations :  176\n",
      "0\n",
      "Number of iterations :  177\n",
      "0\n",
      "Number of iterations :  178\n",
      "0\n",
      "Number of iterations :  179\n",
      "0\n",
      "Number of iterations :  180\n",
      "0\n",
      "Number of iterations :  181\n",
      "0\n",
      "Number of iterations :  182\n",
      "0\n",
      "Number of iterations :  183\n",
      "0\n",
      "Number of iterations :  184\n",
      "0\n",
      "Number of iterations :  185\n",
      "0\n",
      "Number of iterations :  186\n",
      "0\n",
      "Number of iterations :  187\n",
      "0\n",
      "Number of iterations :  188\n",
      "0\n",
      "Number of iterations :  189\n",
      "0\n",
      "Number of iterations :  190\n",
      "0\n",
      "Number of iterations :  191\n",
      "0\n",
      "Number of iterations :  192\n",
      "0\n",
      "Number of iterations :  193\n",
      "0\n",
      "Number of iterations :  194\n",
      "0\n",
      "Number of iterations :  195\n",
      "0\n",
      "Number of iterations :  196\n",
      "0\n",
      "Number of iterations :  197\n",
      "0\n",
      "Number of iterations :  198\n",
      "0\n",
      "Number of iterations :  199\n",
      "0\n"
     ]
    }
   ],
   "source": [
    "value , policy = policy_iteration()"
   ]
  },
  {
   "cell_type": "code",
   "execution_count": 18,
   "metadata": {},
   "outputs": [
    {
     "data": {
      "text/plain": [
       "<matplotlib.image.AxesImage at 0x7f0d7c4b91d0>"
      ]
     },
     "execution_count": 18,
     "metadata": {},
     "output_type": "execute_result"
    },
    {
     "data": {
      "image/png": "[encoded data removed]",
      "text/plain": [
       "<Figure size 576x432 with 1 Axes>"
      ]
     },
     "metadata": {},
     "output_type": "display_data"
    }
   ],
   "source": [
    "plt.figure(figsize = (8 , 6))\n",
    "plt.imshow (value , cmap = \"hot\" , interpolation=\"nearest\")"
   ]
  },
  {
   "cell_type": "code",
   "execution_count": 20,
   "metadata": {},
   "outputs": [
    {
     "name": "stdout",
     "output_type": "stream",
     "text": [
      "[[ 0.00000  0.00000  0.00000 ...  0.00000  0.00000  0.00000]\n",
      " [ 0.00000  0.00000  0.00000 ...  0.00000  0.00000  0.00000]\n",
      " [ 0.00000  0.00000  0.00000 ...  0.00000  0.00000  0.00000]\n",
      " ...\n",
      " [ 0.00000  0.00000  0.00000 ...  0.00000  0.00000  0.00000]\n",
      " [ 0.00000  0.00000  0.00000 ...  0.00000  0.00000  0.00000]\n",
      " [ 0.00000  0.00000  0.00000 ...  0.00000  0.00000  0.00000]]\n",
      "[[-10.00000 -10.00000 -10.00000 ... -10.00000 -10.00000 -10.00000]\n",
      " [-11.00000 -11.00000 -11.00000 ... -10.00000 -10.00000 -10.00000]\n",
      " [-11.00000 -11.00000 -11.00000 ... -10.00000 -10.00000 -10.00000]\n",
      " ...\n",
      " [-35.00000 -35.00000 -35.00000 ...  0.00000  0.00000  0.00000]\n",
      " [-35.00000 -35.00000 -35.00000 ...  0.00000  0.00000  0.00000]\n",
      " [-35.00000 -35.00000 -35.00000 ...  0.00000  0.00000  0.00000]]\n"
     ]
    }
   ],
   "source": [
    "print(policy)\n",
    "print(value)"
   ]
  },
  {
   "cell_type": "code",
   "execution_count": null,
   "metadata": {},
   "outputs": [],
   "source": []
  }
 ],
 "metadata": {
  "kernelspec": {
   "display_name": "Python 3",
   "language": "python",
   "name": "python3"
  },
  "language_info": {
   "codemirror_mode": {
    "name": "ipython",
    "version": 3
   },
   "file_extension": ".py",
   "mimetype": "text/x-python",
   "name": "python",
   "nbconvert_exporter": "python",
   "pygments_lexer": "ipython3",
   "version": "3.6.5"
  }
 },
 "nbformat": 4,
 "nbformat_minor": 2
}
