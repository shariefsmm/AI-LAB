{
 "cells": [
  {
   "cell_type": "code",
   "execution_count": 1,
   "metadata": {},
   "outputs": [],
   "source": [
    "import numpy as np\n",
    "import math\n",
    "import random\n",
    "import matplotlib.pyplot as plt"
   ]
  },
  {
   "cell_type": "code",
   "execution_count": 2,
   "metadata": {},
   "outputs": [],
   "source": [
    "#this is the description of the bandits\n",
    "#this will give the success probability associated with each of the arm\n",
    "action = 5                                  #this is the number of actions that are possible\n",
    "bandit = [0.5, 0.9 , 0.7 , 0.4 , 0.99]       #success probability associated with each bandit\n",
    "\n",
    "reward_success = [1 , 1, 1 ,1 ,1]\n",
    "reward_fail = [0 , 0 , 0 , 0 , 0]\n",
    "\n",
    "#the problem is to choose the best arm\n",
    "#according to the current probability distribution of the reward"
   ]
  },
  {
   "cell_type": "code",
   "execution_count": 3,
   "metadata": {},
   "outputs": [],
   "source": [
    "number_of_episodes = 100000                         #number of episodes to run\n",
    "selected = [0 for _ in range(action)]              #this will tell the number of times the arm is selected\n",
    "Q = [0 for _ in range(action)]"
   ]
  },
  {
   "cell_type": "code",
   "execution_count": 4,
   "metadata": {},
   "outputs": [],
   "source": [
    "def initialization():\n",
    "    proportion = np.zeros ((0 , action))\n",
    "    arm_picked = np.zeros ((0 , action))\n",
    "    total = 0\n",
    "    for a in range(action):\n",
    "        selected[a] += 1               #increment the selected\n",
    "        p_success = random.random()\n",
    "        if (p_success < bandit[a]): \n",
    "            Q[a] = reward_success[a]      #update the value of q\n",
    "            total += Q[a]\n",
    "        else:\n",
    "            Q[a] = reward_fail[a]\n",
    "            total += Q[a]\n",
    "        \n",
    "        proportion = np.vstack((proportion , np.array(selected)/(a+1) ))\n",
    "        arm_picked = np.vstack((arm_picked , np.array(selected) ))\n",
    "        \n",
    "    return (total , proportion , arm_picked)"
   ]
  },
  {
   "cell_type": "code",
   "execution_count": 5,
   "metadata": {},
   "outputs": [],
   "source": [
    "#this function takes the value of q, number of times the arm is selected and t: the number of episodes passed\n",
    "def bound(q , n , t):\n",
    "    #print ((2*math.log(t))/n)\n",
    "    return q + math.sqrt( (2*math.log(t))/n )\n",
    "    "
   ]
  },
  {
   "cell_type": "code",
   "execution_count": 6,
   "metadata": {},
   "outputs": [],
   "source": [
    "def upper_confidence_bound(episodes , total):\n",
    "    \n",
    "    \n",
    "    upper_bounds = []\n",
    "    for a in range(action):\n",
    "        upper_bounds.append(bound (Q[a] , selected[a] , episodes))\n",
    "    \n",
    "    #this is the action that we are going to select\n",
    "    a = np.argmax (upper_bounds)\n",
    "    p_success = random.random()\n",
    "    \n",
    "    #this is for the success\n",
    "    if (p_success < bandit[a]):\n",
    "        selected[a] += 1               #increment the selected\n",
    "        k = selected[a]\n",
    "        Q[a] = Q[a] + (1/(k+1)) * (reward_success[a] - Q[a])      #update the value of q\n",
    "        reward = reward_success[a]\n",
    "    else:\n",
    "        selected[a] += 1               #increment the selected\n",
    "        k = selected[a]\n",
    "        Q[a] = Q[a] + (1/(k+1)) * (reward_fail[a] - Q[a])      #update the value of q\n",
    "        reward = reward_fail[a]\n",
    "        \n",
    "    return total + reward\n",
    "    "
   ]
  },
  {
   "cell_type": "code",
   "execution_count": 7,
   "metadata": {},
   "outputs": [
    {
     "name": "stdout",
     "output_type": "stream",
     "text": [
      "Number of iterations :  10000\n",
      "Number of iterations :  20000\n",
      "Number of iterations :  30000\n",
      "Number of iterations :  40000\n",
      "Number of iterations :  50000\n",
      "Number of iterations :  60000\n",
      "Number of iterations :  70000\n",
      "Number of iterations :  80000\n",
      "Number of iterations :  90000\n"
     ]
    }
   ],
   "source": [
    "\n",
    "total , proportion , arm_picked = initialization()\n",
    "for itr in range(action,number_of_episodes):\n",
    "    if (itr % 10000 == 0):\n",
    "        print (\"Number of iterations : \" , itr)\n",
    "    total = upper_confidence_bound(itr+1 , total)\n",
    "    proportion = np.vstack((proportion , np.array(selected)/(itr+1) ))\n",
    "    arm_picked = np.vstack((arm_picked , np.array(selected) ))"
   ]
  },
  {
   "cell_type": "code",
   "execution_count": 8,
   "metadata": {},
   "outputs": [
    {
     "name": "stdout",
     "output_type": "stream",
     "text": [
      "[0.4999999999999998, 0.9048662867163526, 0.7072243346007605, 0.17142857142857143, 0.9901163029630504]\n"
     ]
    }
   ],
   "source": [
    "print (Q)"
   ]
  },
  {
   "cell_type": "code",
   "execution_count": 9,
   "metadata": {
    "scrolled": true
   },
   "outputs": [
    {
     "name": "stdout",
     "output_type": "stream",
     "text": [
      "[93, 2280, 262, 34, 97331]\n"
     ]
    }
   ],
   "source": [
    "print (selected)"
   ]
  },
  {
   "cell_type": "code",
   "execution_count": 10,
   "metadata": {},
   "outputs": [
    {
     "name": "stdout",
     "output_type": "stream",
     "text": [
      "98671\n"
     ]
    }
   ],
   "source": [
    "print (total)"
   ]
  },
  {
   "cell_type": "code",
   "execution_count": 11,
   "metadata": {
    "scrolled": true
   },
   "outputs": [
    {
     "data": {
      "text/plain": [
       "Text(0,0.5,'Proportion')"
      ]
     },
     "execution_count": 11,
     "metadata": {},
     "output_type": "execute_result"
    },
    {
     "data": {
      "image/png": "[encoded data removed]",
      "text/plain": [
       "<Figure size 576x432 with 1 Axes>"
      ]
     },
     "metadata": {},
     "output_type": "display_data"
    }
   ],
   "source": [
    "#plot for the proportion\n",
    "bandit_name = [\"bandit 1\" , \"bandit 2\" , \"bandit 3\" , \"bandit 4\" , \"bandit 5\"]\n",
    "plt.figure (figsize=(8 , 6))\n",
    "for i , name  in zip (range(action) , bandit_name):\n",
    "    plt.plot (range(1 , number_of_episodes) , proportion[1: , i] , label = name)\n",
    "    \n",
    "plt.legend()\n",
    "plt.xlabel (\"number of episodes\")\n",
    "plt.ylabel (\"Proportion\")"
   ]
  },
  {
   "cell_type": "code",
   "execution_count": 15,
   "metadata": {},
   "outputs": [
    {
     "data": {
      "text/plain": [
       "Text(0,0.5,'Number of times the arm is picked')"
      ]
     },
     "execution_count": 15,
     "metadata": {},
     "output_type": "execute_result"
    },
    {
     "data": {
      "image/png": "[encoded data removed]",
      "text/plain": [
       "<Figure size 576x432 with 1 Axes>"
      ]
     },
     "metadata": {},
     "output_type": "display_data"
    }
   ],
   "source": [
    "#plot for the proportion\n",
    "bandit_name = [\"bandit 1\" , \"bandit 2\" , \"bandit 3\" , \"bandit 4\" , \"bandit 5\"]\n",
    "plt.figure (figsize=(8 , 6))\n",
    "\n",
    "argmx = np.argmax (Q)\n",
    "for i , name  in zip (range(action) , bandit_name):\n",
    "    if (i != argmx):\n",
    "        plt.plot (np.log(range(1,number_of_episodes+1)) , arm_picked[: , i] , label = name)\n",
    "    \n",
    "plt.legend()\n",
    "plt.xlabel (\"Log (number of episodes)\")\n",
    "plt.ylabel (\"Number of times the arm is picked\")"
   ]
  },
  {
   "cell_type": "code",
   "execution_count": 16,
   "metadata": {},
   "outputs": [
    {
     "name": "stdout",
     "output_type": "stream",
     "text": [
      "-0.0\n"
     ]
    }
   ],
   "source": [
    "delta = (arm_picked[number_of_episodes - 500 , 1] - arm_picked[number_of_episodes -1 , 1])\n",
    "delta = delta / (math.log (number_of_episodes - 500) - math.log(number_of_episodes - 1))\n",
    "print(delta)"
   ]
  },
  {
   "cell_type": "code",
   "execution_count": null,
   "metadata": {},
   "outputs": [],
   "source": []
  }
 ],
 "metadata": {
  "kernelspec": {
   "display_name": "Python 3",
   "language": "python",
   "name": "python3"
  },
  "language_info": {
   "codemirror_mode": {
    "name": "ipython",
    "version": 3
   },
   "file_extension": ".py",
   "mimetype": "text/x-python",
   "name": "python",
   "nbconvert_exporter": "python",
   "pygments_lexer": "ipython3",
   "version": "3.6.5"
  }
 },
 "nbformat": 4,
 "nbformat_minor": 2
}
